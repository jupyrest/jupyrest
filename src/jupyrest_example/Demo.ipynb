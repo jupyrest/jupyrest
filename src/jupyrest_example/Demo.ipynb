{
 "cells": [
  {
   "cell_type": "markdown",
   "id": "1cda3fc9",
   "metadata": {},
   "source": [
    "# Getting Started With Jupyrest\n",
    "\n",
    "\n",
    "Jupyrest is a library that converts __Jupyter Notebooks__ into __REST APIs__. It turns notebooks into *notebook functions*.\n",
    "\n",
    "This guide will demonstrate how to interact with a notebook function and other nice features that Jupyrest provides.\n",
    "\n",
    "## Starting the Web Server\n",
    "\n",
    "See the `start_http.py` file in this directory for an example of how to configure a Jupyrest application and start the web server.\n",
    "\n",
    "## Initializing a Jupyrest Client\n",
    "\n",
    "The `JupyrestClient` is a handy wrapper over the Jupyrest HTTP API. The HTTP API OpenAPI spec can be found at the `/docs` endpoint."
   ]
  },
  {
   "cell_type": "code",
   "execution_count": 1,
   "id": "2f4a2fd1",
   "metadata": {},
   "outputs": [],
   "source": [
    "from jupyrest.client import JupyrestClient\n",
    "from pprint import pprint\n",
    "from IPython.display import HTML\n",
    "import json\n",
    "\n",
    "# initialize our client\n",
    "base_url = \"http://localhost:5051\"\n",
    "client = JupyrestClient(endpoint=base_url)\n",
    "\n",
    "# Some helper functions to aid with displaying data\n",
    "# in this notebook.\n",
    "def print_json(data):\n",
    "    print(json.dumps(data, indent=4))\n",
    "\n",
    "def display_response(response):\n",
    "    html_out = f\"\"\"\n",
    "    ExecutionId: <a href=\"{base_url}/api/notebook_executions/{response.execution_id}\" target=\"_blank\">{response.execution_id}</a> <br>\n",
    "    <a href=\"{base_url}{response.artifacts[\"html\"]}\" target=\"_blank\">HTML</a> <br>\n",
    "    <a href=\"{base_url}{response.artifacts[\"html_report\"]}\" target=\"_blank\">HTML Report</a><br>\n",
    "    <a href=\"{base_url}{response.artifacts[\"ipynb\"]}\" target=\"_blank\">IPYNB</a><br>\n",
    "    \"\"\"\n",
    "    if response.has_output:\n",
    "        html_out += f'<a href=\"{base_url}{response.artifacts[\"output\"]}\" target=\"_blank\">OUTPUT</a><br>'\n",
    "    if response.has_exception:\n",
    "        html_out += f'<a href=\"{base_url}{response.artifacts[\"exception\"]}\" target=\"_blank\">EXCEPTION</a><br>'\n",
    "    \n",
    "    display(HTML(html_out))"
   ]
  },
  {
   "cell_type": "markdown",
   "id": "78fdeb27",
   "metadata": {},
   "source": [
    "# Getting the list of available Notebook Functions\n",
    "\n",
    "Based on what folder you have your notebooks in, Jupyrest will scan the directory and detect which notebooks in there are eligible notebook functions. This is done by looking for the `*.config.json` files."
   ]
  },
  {
   "cell_type": "code",
   "execution_count": 2,
   "id": "37d02d17",
   "metadata": {},
   "outputs": [
    {
     "name": "stdout",
     "output_type": "stream",
     "text": [
      "{\n",
      "    \"notebooks\": [\n",
      "        \"error\",\n",
      "        \"hello_world\",\n",
      "        \"portfolio_analysis\"\n",
      "    ]\n",
      "}\n"
     ]
    }
   ],
   "source": [
    "notebooks = await client.get_notebooks()\n",
    "print_json(notebooks)"
   ]
  },
  {
   "cell_type": "markdown",
   "id": "f5d8f2b8",
   "metadata": {},
   "source": [
    "# Get the details of a Notebook Function"
   ]
  },
  {
   "cell_type": "code",
   "execution_count": 3,
   "id": "555aefb3",
   "metadata": {},
   "outputs": [
    {
     "name": "stdout",
     "output_type": "stream",
     "text": [
      "{\n",
      "    \"notebook_id\": \"hello_world\",\n",
      "    \"input_schema\": {\n",
      "        \"type\": \"object\",\n",
      "        \"properties\": {\n",
      "            \"name\": {\n",
      "                \"type\": \"string\"\n",
      "            }\n",
      "        },\n",
      "        \"required\": [\n",
      "            \"name\"\n",
      "        ]\n",
      "    },\n",
      "    \"output_schema\": {\n",
      "        \"type\": \"object\",\n",
      "        \"properties\": {\n",
      "            \"name\": {\n",
      "                \"type\": \"string\"\n",
      "            }\n",
      "        },\n",
      "        \"required\": [\n",
      "            \"name\"\n",
      "        ]\n",
      "    }\n",
      "}\n"
     ]
    }
   ],
   "source": [
    "hello_world_notebook = await client.get_notebook(notebook_id=\"hello_world\")\n",
    "print_json(hello_world_notebook)"
   ]
  },
  {
   "cell_type": "markdown",
   "id": "887b5355",
   "metadata": {},
   "source": [
    "# Executing a Notebook Function\n",
    "\n",
    "Ok, now to the fun stuff. We can use the `execute_notebook_until_complete` function to do this. \n",
    "\n",
    "First, lets try to execute a notebook with parameters that *don't* match the expected schema:"
   ]
  },
  {
   "cell_type": "code",
   "execution_count": 4,
   "id": "5dea6471",
   "metadata": {},
   "outputs": [
    {
     "ename": "ClientResponseError",
     "evalue": "400, message='Bad Request', url=URL('http://localhost:5051/api/notebooks/hello_world/execute')",
     "output_type": "error",
     "traceback": [
      "\u001b[1;31m---------------------------------------------------------------------------\u001b[0m",
      "\u001b[1;31mClientResponseError\u001b[0m                       Traceback (most recent call last)",
      "Cell \u001b[1;32mIn[4], line 1\u001b[0m\n\u001b[1;32m----> 1\u001b[0m \u001b[38;5;28;01mawait\u001b[39;00m client\u001b[38;5;241m.\u001b[39mexecute_notebook_until_complete(\n\u001b[0;32m      2\u001b[0m     notebook_id\u001b[38;5;241m=\u001b[39m\u001b[38;5;124m\"\u001b[39m\u001b[38;5;124mhello_world\u001b[39m\u001b[38;5;124m\"\u001b[39m,\n\u001b[0;32m      3\u001b[0m     parameters\u001b[38;5;241m=\u001b[39m{\n\u001b[0;32m      4\u001b[0m         \u001b[38;5;124m\"\u001b[39m\u001b[38;5;124mfoo\u001b[39m\u001b[38;5;124m\"\u001b[39m: \u001b[38;5;124m\"\u001b[39m\u001b[38;5;124mbar\u001b[39m\u001b[38;5;124m\"\u001b[39m\n\u001b[0;32m      5\u001b[0m     }\n\u001b[0;32m      6\u001b[0m )\n",
      "File \u001b[1;32m~\\code\\jupyrest2\\src\\jupyrest\\jupyrest\\client.py:43\u001b[0m, in \u001b[0;36mJupyrestClient.execute_notebook_until_complete\u001b[1;34m(self, notebook_id, parameters)\u001b[0m\n\u001b[0;32m     42\u001b[0m \u001b[38;5;28;01masync\u001b[39;00m \u001b[38;5;28;01mdef\u001b[39;00m \u001b[38;5;21mexecute_notebook_until_complete\u001b[39m(\u001b[38;5;28mself\u001b[39m, notebook_id, parameters):\n\u001b[1;32m---> 43\u001b[0m     execution \u001b[38;5;241m=\u001b[39m \u001b[38;5;28;01mawait\u001b[39;00m \u001b[38;5;28mself\u001b[39m\u001b[38;5;241m.\u001b[39mexecute_notebook(notebook_id, parameters)\n\u001b[0;32m     44\u001b[0m     \u001b[38;5;28;01mreturn\u001b[39;00m \u001b[38;5;28;01mawait\u001b[39;00m \u001b[38;5;28mself\u001b[39m\u001b[38;5;241m.\u001b[39mpoll(execution_id\u001b[38;5;241m=\u001b[39mexecution\u001b[38;5;241m.\u001b[39mexecution_id)\n",
      "File \u001b[1;32m~\\code\\jupyrest2\\src\\jupyrest\\jupyrest\\client.py:18\u001b[0m, in \u001b[0;36mJupyrestClient.execute_notebook\u001b[1;34m(self, notebook_id, parameters)\u001b[0m\n\u001b[0;32m     16\u001b[0m \u001b[38;5;28;01masync\u001b[39;00m \u001b[38;5;28;01mwith\u001b[39;00m \u001b[38;5;28mself\u001b[39m\u001b[38;5;241m.\u001b[39msession() \u001b[38;5;28;01mas\u001b[39;00m session:\n\u001b[0;32m     17\u001b[0m     execute_url \u001b[38;5;241m=\u001b[39m \u001b[38;5;124mf\u001b[39m\u001b[38;5;124m\"\u001b[39m\u001b[38;5;124m/api/notebooks/\u001b[39m\u001b[38;5;132;01m{\u001b[39;00mnotebook_id\u001b[38;5;132;01m}\u001b[39;00m\u001b[38;5;124m/execute\u001b[39m\u001b[38;5;124m\"\u001b[39m\n\u001b[1;32m---> 18\u001b[0m     \u001b[38;5;28;01masync\u001b[39;00m \u001b[38;5;28;01mwith\u001b[39;00m session\u001b[38;5;241m.\u001b[39mpost(\n\u001b[0;32m     19\u001b[0m         execute_url,\n\u001b[0;32m     20\u001b[0m         json\u001b[38;5;241m=\u001b[39m\u001b[38;5;28mdict\u001b[39m(parameters\u001b[38;5;241m=\u001b[39mparameters),\n\u001b[0;32m     21\u001b[0m     ) \u001b[38;5;28;01mas\u001b[39;00m response:\n\u001b[0;32m     22\u001b[0m         response_json \u001b[38;5;241m=\u001b[39m \u001b[38;5;28;01mawait\u001b[39;00m response\u001b[38;5;241m.\u001b[39mjson()\n\u001b[0;32m     23\u001b[0m         \u001b[38;5;28;01mreturn\u001b[39;00m NotebookExecutionAsyncResponse\u001b[38;5;241m.\u001b[39mparse_obj(response_json)\n",
      "File \u001b[1;32m~\\code\\jupyrest2\\src\\jupyrest\\.venv\\lib\\site-packages\\aiohttp\\client.py:1194\u001b[0m, in \u001b[0;36m_BaseRequestContextManager.__aenter__\u001b[1;34m(self)\u001b[0m\n\u001b[0;32m   1193\u001b[0m \u001b[38;5;28;01masync\u001b[39;00m \u001b[38;5;28;01mdef\u001b[39;00m \u001b[38;5;21m__aenter__\u001b[39m(\u001b[38;5;28mself\u001b[39m) \u001b[38;5;241m-\u001b[39m\u001b[38;5;241m>\u001b[39m _RetType:\n\u001b[1;32m-> 1194\u001b[0m     \u001b[38;5;28mself\u001b[39m\u001b[38;5;241m.\u001b[39m_resp \u001b[38;5;241m=\u001b[39m \u001b[38;5;28;01mawait\u001b[39;00m \u001b[38;5;28mself\u001b[39m\u001b[38;5;241m.\u001b[39m_coro\n\u001b[0;32m   1195\u001b[0m     \u001b[38;5;28;01mreturn\u001b[39;00m \u001b[38;5;28mself\u001b[39m\u001b[38;5;241m.\u001b[39m_resp\n",
      "File \u001b[1;32m~\\code\\jupyrest2\\src\\jupyrest\\.venv\\lib\\site-packages\\aiohttp\\client.py:693\u001b[0m, in \u001b[0;36mClientSession._request\u001b[1;34m(self, method, str_or_url, params, data, json, cookies, headers, skip_auto_headers, auth, allow_redirects, max_redirects, compress, chunked, expect100, raise_for_status, read_until_eof, proxy, proxy_auth, timeout, verify_ssl, fingerprint, ssl_context, ssl, server_hostname, proxy_headers, trace_request_ctx, read_bufsize, auto_decompress, max_line_size, max_field_size)\u001b[0m\n\u001b[0;32m    691\u001b[0m     \u001b[38;5;28;01mawait\u001b[39;00m raise_for_status(resp)\n\u001b[0;32m    692\u001b[0m \u001b[38;5;28;01melif\u001b[39;00m raise_for_status:\n\u001b[1;32m--> 693\u001b[0m     \u001b[43mresp\u001b[49m\u001b[38;5;241;43m.\u001b[39;49m\u001b[43mraise_for_status\u001b[49m\u001b[43m(\u001b[49m\u001b[43m)\u001b[49m\n\u001b[0;32m    695\u001b[0m \u001b[38;5;66;03m# register connection\u001b[39;00m\n\u001b[0;32m    696\u001b[0m \u001b[38;5;28;01mif\u001b[39;00m handle \u001b[38;5;129;01mis\u001b[39;00m \u001b[38;5;129;01mnot\u001b[39;00m \u001b[38;5;28;01mNone\u001b[39;00m:\n",
      "File \u001b[1;32m~\\code\\jupyrest2\\src\\jupyrest\\.venv\\lib\\site-packages\\aiohttp\\client_reqrep.py:1060\u001b[0m, in \u001b[0;36mClientResponse.raise_for_status\u001b[1;34m(self)\u001b[0m\n\u001b[0;32m   1058\u001b[0m \u001b[38;5;28;01massert\u001b[39;00m \u001b[38;5;28mself\u001b[39m\u001b[38;5;241m.\u001b[39mreason \u001b[38;5;129;01mis\u001b[39;00m \u001b[38;5;129;01mnot\u001b[39;00m \u001b[38;5;28;01mNone\u001b[39;00m\n\u001b[0;32m   1059\u001b[0m \u001b[38;5;28mself\u001b[39m\u001b[38;5;241m.\u001b[39mrelease()\n\u001b[1;32m-> 1060\u001b[0m \u001b[38;5;28;01mraise\u001b[39;00m ClientResponseError(\n\u001b[0;32m   1061\u001b[0m     \u001b[38;5;28mself\u001b[39m\u001b[38;5;241m.\u001b[39mrequest_info,\n\u001b[0;32m   1062\u001b[0m     \u001b[38;5;28mself\u001b[39m\u001b[38;5;241m.\u001b[39mhistory,\n\u001b[0;32m   1063\u001b[0m     status\u001b[38;5;241m=\u001b[39m\u001b[38;5;28mself\u001b[39m\u001b[38;5;241m.\u001b[39mstatus,\n\u001b[0;32m   1064\u001b[0m     message\u001b[38;5;241m=\u001b[39m\u001b[38;5;28mself\u001b[39m\u001b[38;5;241m.\u001b[39mreason,\n\u001b[0;32m   1065\u001b[0m     headers\u001b[38;5;241m=\u001b[39m\u001b[38;5;28mself\u001b[39m\u001b[38;5;241m.\u001b[39mheaders,\n\u001b[0;32m   1066\u001b[0m )\n",
      "\u001b[1;31mClientResponseError\u001b[0m: 400, message='Bad Request', url=URL('http://localhost:5051/api/notebooks/hello_world/execute')"
     ]
    }
   ],
   "source": [
    "await client.execute_notebook_until_complete(\n",
    "    notebook_id=\"hello_world\",\n",
    "    parameters={\n",
    "        \"foo\": \"bar\"\n",
    "    }\n",
    ")"
   ]
  },
  {
   "cell_type": "markdown",
   "id": "6cfb6cc6",
   "metadata": {},
   "source": [
    "Let's execute the notebook with the __correct__ parameters this time:"
   ]
  },
  {
   "cell_type": "code",
   "execution_count": 5,
   "id": "2e64ee6c",
   "metadata": {},
   "outputs": [],
   "source": [
    "response = await client.execute_notebook_until_complete(\n",
    "    notebook_id=\"hello_world\",\n",
    "    parameters={\n",
    "        \"name\": \"PyCascades\"\n",
    "    }\n",
    ")"
   ]
  },
  {
   "cell_type": "code",
   "execution_count": 6,
   "id": "bb573745",
   "metadata": {},
   "outputs": [
    {
     "name": "stdout",
     "output_type": "stream",
     "text": [
      "{\n",
      "    \"execution_id\": \"b61bcc38-4dec-483f-8cf1-75b0c1ed794b\",\n",
      "    \"status\": \"COMPLETED\",\n",
      "    \"notebook_id\": \"hello_world\",\n",
      "    \"parameters\": {\n",
      "        \"name\": \"PyCascades\"\n",
      "    },\n",
      "    \"execution_accepted_ts\": \"2024-04-06T02:35:42.953495\",\n",
      "    \"execution_start_ts\": \"2024-04-06T02:35:42.953495\",\n",
      "    \"execution_end_ts\": \"2024-04-06T02:35:48.705439\",\n",
      "    \"execution_completion_status\": \"SUCCEEDED\",\n",
      "    \"has_output\": true,\n",
      "    \"has_exception\": false,\n",
      "    \"artifacts\": {\n",
      "        \"output\": \"/api/notebook_executions/b61bcc38-4dec-483f-8cf1-75b0c1ed794b/artifacts/output\",\n",
      "        \"html\": \"/api/notebook_executions/b61bcc38-4dec-483f-8cf1-75b0c1ed794b/artifacts/html\",\n",
      "        \"ipynb\": \"/api/notebook_executions/b61bcc38-4dec-483f-8cf1-75b0c1ed794b/artifacts/ipynb\",\n",
      "        \"html_report\": \"/api/notebook_executions/b61bcc38-4dec-483f-8cf1-75b0c1ed794b/artifacts/html_report\"\n",
      "    }\n",
      "}\n"
     ]
    }
   ],
   "source": [
    "from fastapi.encoders import jsonable_encoder\n",
    "print_json(jsonable_encoder(response))"
   ]
  },
  {
   "cell_type": "code",
   "execution_count": 7,
   "id": "5fbb4b0e",
   "metadata": {},
   "outputs": [
    {
     "data": {
      "text/html": [
       "\n",
       "    ExecutionId: <a href=\"http://localhost:5051/api/notebook_executions/b61bcc38-4dec-483f-8cf1-75b0c1ed794b\" target=\"_blank\">b61bcc38-4dec-483f-8cf1-75b0c1ed794b</a> <br>\n",
       "    <a href=\"http://localhost:5051/api/notebook_executions/b61bcc38-4dec-483f-8cf1-75b0c1ed794b/artifacts/html\" target=\"_blank\">HTML</a> <br>\n",
       "    <a href=\"http://localhost:5051/api/notebook_executions/b61bcc38-4dec-483f-8cf1-75b0c1ed794b/artifacts/html_report\" target=\"_blank\">HTML Report</a><br>\n",
       "    <a href=\"http://localhost:5051/api/notebook_executions/b61bcc38-4dec-483f-8cf1-75b0c1ed794b/artifacts/ipynb\" target=\"_blank\">IPYNB</a><br>\n",
       "    <a href=\"http://localhost:5051/api/notebook_executions/b61bcc38-4dec-483f-8cf1-75b0c1ed794b/artifacts/output\" target=\"_blank\">OUTPUT</a><br>"
      ],
      "text/plain": [
       "<IPython.core.display.HTML object>"
      ]
     },
     "metadata": {},
     "output_type": "display_data"
    }
   ],
   "source": [
    "display_response(response)"
   ]
  },
  {
   "cell_type": "markdown",
   "id": "138f0d80",
   "metadata": {},
   "source": [
    "# Notebook Execution Artifacts\n",
    "\n",
    "Any successful execution of a notebook function will have the following artifacts:\n",
    "* `output` (if any)\n",
    "    * the data passed into the `save_output()` function in the notebook, if called\n",
    "* `html`\n",
    "    * an HTML view of the executed notebook\n",
    "* `html_report`\n",
    "    * an HTML view with the code cells removed\n",
    "* `ipynb`\n",
    "    * the .ipynb file of the executed notebook\n",
    "    \n",
    "The URLs for these artifacts are present in the response body (shown above). Of course, you can access these artifacts using the client as well:"
   ]
  },
  {
   "cell_type": "code",
   "execution_count": 8,
   "id": "494a2f7d",
   "metadata": {},
   "outputs": [],
   "source": [
    "execution_id = response.execution_id\n",
    "\n",
    "html = await client.get_execution_html(\n",
    "    execution_id=execution_id\n",
    ")\n",
    "html_report = await client.get_execution_html(\n",
    "    execution_id=execution_id,\n",
    "    report_mode=True\n",
    ")\n",
    "ipynb = await client.get_execution_ipynb(\n",
    "    execution_id=execution_id\n",
    ")\n",
    "output = await client.get_execution_output(\n",
    "    execution_id=execution_id\n",
    ")"
   ]
  },
  {
   "cell_type": "markdown",
   "id": "6d4f596e",
   "metadata": {},
   "source": [
    "## Notebook Execution Output\n",
    "\n",
    "The most compelling artifact of a notebook execution is the `output`. This is what makes a notebook into a notebook function.\n",
    "\n",
    "Our `\"hello_world\"` notebook is a notebook function because we can access its output:"
   ]
  },
  {
   "cell_type": "code",
   "execution_count": 9,
   "id": "d2a196ef",
   "metadata": {},
   "outputs": [
    {
     "name": "stdout",
     "output_type": "stream",
     "text": [
      "{\n",
      "    \"name\": \"Hello PyCascades!\"\n",
      "}\n"
     ]
    }
   ],
   "source": [
    "print_json(output)"
   ]
  },
  {
   "cell_type": "markdown",
   "id": "da0034dd",
   "metadata": {},
   "source": [
    "# \"Erroneous\" Notebook Functions\n",
    "\n",
    "What happens when the code inside a notebook fails and throws an exception? Pretty much exactly what you'd expect!\n",
    "\n",
    "We can debug any failed notebook execution by looking at its HTML. No need for any fancy logging or telemetry set ups."
   ]
  },
  {
   "cell_type": "code",
   "execution_count": 10,
   "id": "8b5f89b1",
   "metadata": {},
   "outputs": [
    {
     "name": "stdout",
     "output_type": "stream",
     "text": [
      "{\n",
      "    \"execution_id\": \"31c1eb5e-887f-4d15-981d-bdf335ca7020\",\n",
      "    \"status\": \"COMPLETED\",\n",
      "    \"notebook_id\": \"error\",\n",
      "    \"parameters\": {},\n",
      "    \"execution_accepted_ts\": \"2024-04-06T02:37:31.076073\",\n",
      "    \"execution_start_ts\": \"2024-04-06T02:37:31.076073\",\n",
      "    \"execution_end_ts\": \"2024-04-06T02:37:35.125354\",\n",
      "    \"execution_completion_status\": \"FAILED\",\n",
      "    \"has_output\": false,\n",
      "    \"has_exception\": true,\n",
      "    \"artifacts\": {\n",
      "        \"exception\": \"/api/notebook_executions/31c1eb5e-887f-4d15-981d-bdf335ca7020/artifacts/exception\",\n",
      "        \"html\": \"/api/notebook_executions/31c1eb5e-887f-4d15-981d-bdf335ca7020/artifacts/html\",\n",
      "        \"ipynb\": \"/api/notebook_executions/31c1eb5e-887f-4d15-981d-bdf335ca7020/artifacts/ipynb\",\n",
      "        \"html_report\": \"/api/notebook_executions/31c1eb5e-887f-4d15-981d-bdf335ca7020/artifacts/html_report\"\n",
      "    }\n",
      "}\n"
     ]
    }
   ],
   "source": [
    "from IPython.display import HTML\n",
    "\n",
    "response = await client.execute_notebook_until_complete(notebook_id=\"error\", parameters={})\n",
    "print_json(jsonable_encoder(response))"
   ]
  },
  {
   "cell_type": "code",
   "execution_count": 11,
   "id": "3fb44456",
   "metadata": {},
   "outputs": [
    {
     "data": {
      "text/html": [
       "\n",
       "    ExecutionId: <a href=\"http://localhost:5051/api/notebook_executions/31c1eb5e-887f-4d15-981d-bdf335ca7020\" target=\"_blank\">31c1eb5e-887f-4d15-981d-bdf335ca7020</a> <br>\n",
       "    <a href=\"http://localhost:5051/api/notebook_executions/31c1eb5e-887f-4d15-981d-bdf335ca7020/artifacts/html\" target=\"_blank\">HTML</a> <br>\n",
       "    <a href=\"http://localhost:5051/api/notebook_executions/31c1eb5e-887f-4d15-981d-bdf335ca7020/artifacts/html_report\" target=\"_blank\">HTML Report</a><br>\n",
       "    <a href=\"http://localhost:5051/api/notebook_executions/31c1eb5e-887f-4d15-981d-bdf335ca7020/artifacts/ipynb\" target=\"_blank\">IPYNB</a><br>\n",
       "    <a href=\"http://localhost:5051/api/notebook_executions/31c1eb5e-887f-4d15-981d-bdf335ca7020/artifacts/exception\" target=\"_blank\">EXCEPTION</a><br>"
      ],
      "text/plain": [
       "<IPython.core.display.HTML object>"
      ]
     },
     "metadata": {},
     "output_type": "display_data"
    }
   ],
   "source": [
    "display_response(response)"
   ]
  },
  {
   "cell_type": "markdown",
   "id": "800721f3",
   "metadata": {},
   "source": [
    "# Sharing Input/Output Models\n",
    "\n",
    "A good practice in API is to factor commonly used schemas as models and reference them in many API endpoints. Jupyrest lets you do this too!\n",
    "\n",
    "For this example, we will take a Portfolio Analysis notebook adapted from the [Stock Analysis For Quant](https://github.com/LastAncientOne/Stock_Analysis_For_Quant/blob/master/Python_Stock/Portfolio_Analysis.ipynb) Github repository.\n",
    "\n",
    "This notebook takes a `Portfolio` object as input. Rather than define this as raw JSON schema, we can define this as a Python class:\n",
    "\n",
    "The code below is only snippets, the full source code is in the `jupyrest_example/` folder.\n",
    "\n",
    "```python\n",
    "from jupyrest.nbschema import NbSchemaBase\n",
    "from datetime import date\n",
    "from typing import Dict\n",
    "\n",
    "class Portfolio(NbSchemaBase):\n",
    "    start_date: date\n",
    "    end_date: date\n",
    "    holdings: Dict[str, float]\n",
    "```\n",
    "\n",
    "Now we can give this model a name when we create our Jupyrest application:\n",
    "\n",
    "```python\n",
    "deps = InMemoryApplicationBuilder(\n",
    "    notebooks_dir=notebooks_dir,\n",
    "    models={\n",
    "        # we name our model here\n",
    "        \"portfolio\": Portfolio\n",
    "    }\n",
    ").build()\n",
    "```\n",
    "\n",
    "With our API model created and named, we can reference it in our `config.json`:\n",
    "\n",
    "`Portfolio_Analysis.config.json`\n",
    "```json\n",
    "{\n",
    "    \"id\": \"portfolio_analysis\",\n",
    "    \"input\": {\n",
    "        \"type\": \"object\",\n",
    "        \"properties\": {\n",
    "            \"portfolio\": {\n",
    "                \"$ref\": \"nbschema://portfolio\"\n",
    "            }\n",
    "        },\n",
    "        \"required\": [\n",
    "            \"portfolio\"\n",
    "        ],\n",
    "        \"additionalProperties\": false\n",
    "    }\n",
    "}\n",
    "```\n",
    "\n",
    "The cool thing is that when we use the API to get this notebook's input/output schema, we don't see the `nbschema://`, everything is fully resolved into standard JSON schema:"
   ]
  },
  {
   "cell_type": "code",
   "execution_count": 13,
   "id": "0591d0da",
   "metadata": {},
   "outputs": [
    {
     "name": "stdout",
     "output_type": "stream",
     "text": [
      "{\n",
      "    \"notebook_id\": \"portfolio_analysis\",\n",
      "    \"input_schema\": {\n",
      "        \"type\": \"object\",\n",
      "        \"properties\": {\n",
      "            \"portfolio\": {\n",
      "                \"$ref\": \"#/definitions/portfolio\"\n",
      "            }\n",
      "        },\n",
      "        \"required\": [\n",
      "            \"portfolio\"\n",
      "        ],\n",
      "        \"additionalProperties\": false,\n",
      "        \"definitions\": {\n",
      "            \"portfolio\": {\n",
      "                \"title\": \"Portfolio\",\n",
      "                \"type\": \"object\",\n",
      "                \"properties\": {\n",
      "                    \"start_date\": {\n",
      "                        \"title\": \"Start Date\",\n",
      "                        \"type\": \"string\",\n",
      "                        \"format\": \"date\"\n",
      "                    },\n",
      "                    \"end_date\": {\n",
      "                        \"title\": \"End Date\",\n",
      "                        \"type\": \"string\",\n",
      "                        \"format\": \"date\"\n",
      "                    },\n",
      "                    \"holdings\": {\n",
      "                        \"title\": \"Holdings\",\n",
      "                        \"type\": \"object\",\n",
      "                        \"additionalProperties\": {\n",
      "                            \"type\": \"number\"\n",
      "                        }\n",
      "                    }\n",
      "                },\n",
      "                \"required\": [\n",
      "                    \"start_date\",\n",
      "                    \"end_date\",\n",
      "                    \"holdings\"\n",
      "                ],\n",
      "                \"additionalProperties\": false\n",
      "            }\n",
      "        }\n",
      "    },\n",
      "    \"output_schema\": {}\n",
      "}\n"
     ]
    }
   ],
   "source": [
    "portfolio_notebook = await client.get_notebook(notebook_id=\"portfolio_analysis\")\n",
    "print_json(portfolio_notebook)"
   ]
  },
  {
   "cell_type": "markdown",
   "id": "f7e9ba6f",
   "metadata": {},
   "source": [
    "Lets now execute our portfolio analysis notebook. We can give it a set of holdings and weights:"
   ]
  },
  {
   "cell_type": "code",
   "execution_count": 14,
   "id": "7eba8ebe",
   "metadata": {},
   "outputs": [],
   "source": [
    "response = await client.execute_notebook_until_complete(\n",
    "    notebook_id=\"portfolio_analysis\",\n",
    "    parameters={\n",
    "        \"portfolio\":{\n",
    "            \"start_date\": \"2022-04-26\",\n",
    "            \"end_date\": \"2023-04-26\",\n",
    "            \"holdings\": {\n",
    "                \"AAPL\": 0.5,\n",
    "                \"MSFT\": 0.2,\n",
    "                \"AMD\": 0.2,\n",
    "                \"NVDA\": 0.1\n",
    "            }\n",
    "        }\n",
    "    }\n",
    ")"
   ]
  },
  {
   "cell_type": "code",
   "execution_count": 15,
   "id": "326add66",
   "metadata": {},
   "outputs": [
    {
     "data": {
      "text/html": [
       "\n",
       "    ExecutionId: <a href=\"http://localhost:5051/api/notebook_executions/b5d3f984-4d6a-4b71-aa0a-22197a5aaf6f\" target=\"_blank\">b5d3f984-4d6a-4b71-aa0a-22197a5aaf6f</a> <br>\n",
       "    <a href=\"http://localhost:5051/api/notebook_executions/b5d3f984-4d6a-4b71-aa0a-22197a5aaf6f/artifacts/html\" target=\"_blank\">HTML</a> <br>\n",
       "    <a href=\"http://localhost:5051/api/notebook_executions/b5d3f984-4d6a-4b71-aa0a-22197a5aaf6f/artifacts/html_report\" target=\"_blank\">HTML Report</a><br>\n",
       "    <a href=\"http://localhost:5051/api/notebook_executions/b5d3f984-4d6a-4b71-aa0a-22197a5aaf6f/artifacts/ipynb\" target=\"_blank\">IPYNB</a><br>\n",
       "    <a href=\"http://localhost:5051/api/notebook_executions/b5d3f984-4d6a-4b71-aa0a-22197a5aaf6f/artifacts/output\" target=\"_blank\">OUTPUT</a><br>"
      ],
      "text/plain": [
       "<IPython.core.display.HTML object>"
      ]
     },
     "metadata": {},
     "output_type": "display_data"
    }
   ],
   "source": [
    "display_response(response)"
   ]
  },
  {
   "cell_type": "markdown",
   "id": "7312b1b7",
   "metadata": {},
   "source": [
    "Notice how the parameters have been __converted__ into a Portfolio Python object in the notebook. Isn't that just so cool!\n",
    "\n",
    "The beauty is that our notebook has *no idea* that is being used as a REST API. It is all plain-old Python through and through."
   ]
  },
  {
   "cell_type": "code",
   "execution_count": null,
   "id": "88923261",
   "metadata": {},
   "outputs": [],
   "source": []
  }
 ],
 "metadata": {
  "kernelspec": {
   "display_name": "Python 3 (ipykernel)",
   "language": "python",
   "name": "python3"
  },
  "language_info": {
   "codemirror_mode": {
    "name": "ipython",
    "version": 3
   },
   "file_extension": ".py",
   "mimetype": "text/x-python",
   "name": "python",
   "nbconvert_exporter": "python",
   "pygments_lexer": "ipython3",
   "version": "3.9.13"
  }
 },
 "nbformat": 4,
 "nbformat_minor": 5
}
