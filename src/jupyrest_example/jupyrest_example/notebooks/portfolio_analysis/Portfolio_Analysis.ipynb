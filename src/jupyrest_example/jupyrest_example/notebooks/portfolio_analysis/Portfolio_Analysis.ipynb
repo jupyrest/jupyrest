{
 "cells": [
  {
   "cell_type": "markdown",
   "metadata": {},
   "source": [
    "# Portfolio Analysis\n",
    "\n",
    "Adapted from LastAncientOne's Github repository [Stock_Analysis_For_Quant](https://github.com/LastAncientOne/Stock_Analysis_For_Quant/blob/master/Python_Stock/Portfolio_Analysis.ipynb)"
   ]
  },
  {
   "cell_type": "code",
   "execution_count": null,
   "metadata": {
    "inputHidden": false,
    "outputHidden": false
   },
   "outputs": [],
   "source": [
    "import datetime\n",
    "from jupyrest_example import load_data_from_object, Portfolio"
   ]
  },
  {
   "cell_type": "code",
   "execution_count": null,
   "metadata": {
    "tags": [
     "parameters"
    ]
   },
   "outputs": [],
   "source": [
    "# default parameters\n",
    "portfolio = Portfolio(\n",
    "    start_date = datetime.date.fromisoformat(\"2022-04-26\"),\n",
    "    end_date = datetime.date.fromisoformat(\"2023-04-26\"),\n",
    "    holdings={'AAPL': 0.25,'MSFT': 0.25,'AMD': 0.25,'NVDA': 0.25}\n",
    ")"
   ]
  },
  {
   "cell_type": "code",
   "execution_count": null,
   "metadata": {},
   "outputs": [],
   "source": [
    "import numpy as np\n",
    "import pandas as pd\n",
    "import matplotlib.pyplot as plt\n",
    "import math\n",
    "from pathlib import Path\n",
    "\n",
    "import warnings\n",
    "warnings.filterwarnings(\"ignore\")"
   ]
  },
  {
   "cell_type": "code",
   "execution_count": null,
   "metadata": {
    "inputHidden": false,
    "outputHidden": false
   },
   "outputs": [],
   "source": [
    "dataset, weights = load_data_from_object(portfolio)\n",
    "dataset"
   ]
  },
  {
   "cell_type": "code",
   "execution_count": null,
   "metadata": {
    "inputHidden": false,
    "outputHidden": false
   },
   "outputs": [],
   "source": [
    "# Calculate Daily Returns\n",
    "returns = dataset.pct_change()"
   ]
  },
  {
   "cell_type": "code",
   "execution_count": null,
   "metadata": {
    "inputHidden": false,
    "outputHidden": false
   },
   "outputs": [],
   "source": [
    "returns = returns.dropna()"
   ]
  },
  {
   "cell_type": "code",
   "execution_count": null,
   "metadata": {
    "inputHidden": false,
    "outputHidden": false
   },
   "outputs": [],
   "source": [
    "returns.head()"
   ]
  },
  {
   "cell_type": "code",
   "execution_count": null,
   "metadata": {
    "inputHidden": false,
    "outputHidden": false
   },
   "outputs": [],
   "source": [
    "# Calculate mean returns\n",
    "meanDailyReturns = returns.mean()\n",
    "print(meanDailyReturns)"
   ]
  },
  {
   "cell_type": "code",
   "execution_count": null,
   "metadata": {
    "inputHidden": false,
    "outputHidden": false
   },
   "outputs": [],
   "source": [
    "# Calculate std returns\n",
    "stdDailyReturns = returns.std()\n",
    "print(stdDailyReturns)"
   ]
  },
  {
   "cell_type": "code",
   "execution_count": null,
   "metadata": {
    "inputHidden": false,
    "outputHidden": false
   },
   "outputs": [],
   "source": [
    "# Define weights for the portfolio\n",
    "weights = np.array(weights)"
   ]
  },
  {
   "cell_type": "code",
   "execution_count": null,
   "metadata": {
    "inputHidden": false,
    "outputHidden": false
   },
   "outputs": [],
   "source": [
    "# Calculate the covariance matrix on daily returns\n",
    "cov_matrix = (returns.cov())*250\n",
    "print (cov_matrix)"
   ]
  },
  {
   "cell_type": "code",
   "execution_count": null,
   "metadata": {
    "inputHidden": false,
    "outputHidden": false
   },
   "outputs": [],
   "source": [
    "# Calculate expected portfolio performance\n",
    "portReturn = np.sum(meanDailyReturns*weights)"
   ]
  },
  {
   "cell_type": "code",
   "execution_count": null,
   "metadata": {
    "inputHidden": false,
    "outputHidden": false
   },
   "outputs": [],
   "source": [
    "# Print the portfolio return\n",
    "print(portReturn)"
   ]
  },
  {
   "cell_type": "code",
   "execution_count": null,
   "metadata": {
    "inputHidden": false,
    "outputHidden": false
   },
   "outputs": [],
   "source": [
    "# Create portfolio returns column\n",
    "returns['Portfolio'] = returns.dot(weights)"
   ]
  },
  {
   "cell_type": "code",
   "execution_count": null,
   "metadata": {
    "inputHidden": false,
    "outputHidden": false
   },
   "outputs": [],
   "source": [
    "returns.head()"
   ]
  },
  {
   "cell_type": "code",
   "execution_count": null,
   "metadata": {
    "inputHidden": false,
    "outputHidden": false
   },
   "outputs": [],
   "source": [
    "# Calculate cumulative returns\n",
    "daily_cum_ret=(1+returns).cumprod()\n",
    "print(daily_cum_ret.tail())"
   ]
  },
  {
   "cell_type": "code",
   "execution_count": null,
   "metadata": {
    "inputHidden": false,
    "outputHidden": false
   },
   "outputs": [],
   "source": [
    "returns['Portfolio'].hist()\n",
    "plt.show()"
   ]
  },
  {
   "cell_type": "code",
   "execution_count": null,
   "metadata": {
    "inputHidden": false,
    "outputHidden": false
   },
   "outputs": [],
   "source": [
    "import matplotlib.dates\n",
    "\n",
    "# Plot the portfolio cumulative returns only\n",
    "fig, ax = plt.subplots()\n",
    "ax.plot(daily_cum_ret.index, daily_cum_ret.Portfolio, color='purple', label=\"portfolio\")\n",
    "ax.xaxis.set_major_locator(matplotlib.dates.YearLocator())\n",
    "plt.legend()\n",
    "plt.show()"
   ]
  },
  {
   "cell_type": "code",
   "execution_count": null,
   "metadata": {
    "inputHidden": false,
    "outputHidden": false
   },
   "outputs": [],
   "source": [
    "# Print the mean\n",
    "print(\"mean : \", returns['Portfolio'].mean()*100)\n",
    "\n",
    "# Print the standard deviation\n",
    "print(\"Std. dev: \", returns['Portfolio'].std()*100)\n",
    "\n",
    "# Print the skewness\n",
    "print(\"skew: \", returns['Portfolio'].skew())\n",
    "\n",
    "# Print the kurtosis\n",
    "print(\"kurt: \", returns['Portfolio'].kurtosis())"
   ]
  },
  {
   "cell_type": "code",
   "execution_count": null,
   "metadata": {
    "inputHidden": false,
    "outputHidden": false
   },
   "outputs": [],
   "source": [
    "# Calculate the standard deviation by taking the square root\n",
    "port_standard_dev = np.sqrt(np.dot(weights.T, np.dot(weights, cov_matrix)))\n",
    "\n",
    "# Print the results \n",
    "print(str(np.round(port_standard_dev, 4) * 100) + '%')"
   ]
  },
  {
   "cell_type": "code",
   "execution_count": null,
   "metadata": {
    "inputHidden": false,
    "outputHidden": false
   },
   "outputs": [],
   "source": [
    "# Calculate the portfolio variance\n",
    "port_variance = np.dot(weights.T, np.dot(cov_matrix, weights))\n",
    "\n",
    "# Print the result\n",
    "print(str(np.round(port_variance, 4) * 100) + '%')"
   ]
  },
  {
   "cell_type": "code",
   "execution_count": null,
   "metadata": {
    "inputHidden": false,
    "outputHidden": false
   },
   "outputs": [],
   "source": [
    "# Calculate total return and annualized return from price data \n",
    "total_return = (returns['Portfolio'][-1] - returns['Portfolio'][0]) / returns['Portfolio'][0]\n",
    "\n",
    "# Annualize the total return over 1 year \n",
    "annualized_return = ((total_return + 1.0)**(1/1))-1.0"
   ]
  },
  {
   "cell_type": "code",
   "execution_count": null,
   "metadata": {
    "inputHidden": false,
    "outputHidden": false
   },
   "outputs": [],
   "source": [
    "# Calculate annualized volatility from the standard deviation\n",
    "vol_port = returns['Portfolio'].std() * np.sqrt(250)"
   ]
  },
  {
   "cell_type": "code",
   "execution_count": null,
   "metadata": {
    "inputHidden": false,
    "outputHidden": false
   },
   "outputs": [],
   "source": [
    "# Calculate the Sharpe ratio \n",
    "rf = 0.01\n",
    "sharpe_ratio = ((annualized_return - rf) / vol_port)\n",
    "print (sharpe_ratio)"
   ]
  },
  {
   "cell_type": "markdown",
   "metadata": {},
   "source": [
    "If the analysis results in a negative Sharpe ratio, it either means the risk-free rate is greater than the portfolio's return, or the portfolio's return is expected to be negative. "
   ]
  },
  {
   "cell_type": "code",
   "execution_count": null,
   "metadata": {
    "inputHidden": false,
    "outputHidden": false
   },
   "outputs": [],
   "source": [
    "# Create a downside return column with the negative returns only\n",
    "target = 0\n",
    "downside_returns = returns.loc[returns['Portfolio'] < target]\n",
    "\n",
    "# Calculate expected return and std dev of downside\n",
    "expected_return = returns['Portfolio'].mean()\n",
    "down_stdev = downside_returns.std()\n",
    "\n",
    "# Calculate the sortino ratio\n",
    "rf = 0.01\n",
    "sortino_ratio = (expected_return - rf)/down_stdev\n",
    "\n",
    "# Print the results\n",
    "print(\"Expected return: \", expected_return*100)\n",
    "print('-' * 50)\n",
    "print(\"Downside risk:\")\n",
    "print(down_stdev*100)\n",
    "print('-' * 50)\n",
    "print(\"Sortino ratio:\")\n",
    "print(sortino_ratio)"
   ]
  },
  {
   "cell_type": "code",
   "execution_count": null,
   "metadata": {
    "inputHidden": false,
    "outputHidden": false
   },
   "outputs": [],
   "source": [
    "# Calculate the max value \n",
    "roll_max = returns['Portfolio'].rolling(center=False,min_periods=1,window=252).max()\n",
    "\n",
    "# Calculate the daily draw-down relative to the max\n",
    "daily_draw_down = returns['Portfolio']/roll_max - 1.0\n",
    "\n",
    "# Calculate the minimum (negative) daily draw-down\n",
    "max_daily_draw_down = daily_draw_down.rolling(center=False,min_periods=1,window=252).min()\n",
    "\n",
    "# Plot the results\n",
    "plt.figure(figsize=(15,15))\n",
    "plt.plot(returns.index, daily_draw_down, label='Daily drawdown')\n",
    "plt.plot(returns.index, max_daily_draw_down, label='Maximum daily drawdown in time-window')\n",
    "plt.legend()\n",
    "plt.show()"
   ]
  },
  {
   "cell_type": "code",
   "execution_count": null,
   "metadata": {},
   "outputs": [],
   "source": [
    "output_df = pd.concat({\"DownsideRisk\":down_stdev*100, \"SortinoRatio\": sortino_ratio}, axis=1)\n",
    "output_df"
   ]
  },
  {
   "cell_type": "code",
   "execution_count": null,
   "metadata": {},
   "outputs": [],
   "source": [
    "import json\n",
    "from jupyrest import save_output\n",
    "\n",
    "save_output(output_df.to_dict())"
   ]
  }
 ],
 "metadata": {
  "celltoolbar": "Tags",
  "kernel_info": {
   "name": "python3"
  },
  "kernelspec": {
   "display_name": "Python 3 (ipykernel)",
   "language": "python",
   "name": "python3"
  },
  "language_info": {
   "codemirror_mode": {
    "name": "ipython",
    "version": 3
   },
   "file_extension": ".py",
   "mimetype": "text/x-python",
   "name": "python",
   "nbconvert_exporter": "python",
   "pygments_lexer": "ipython3",
   "version": "3.9.13"
  },
  "nteract": {
   "version": "0.15.0"
  }
 },
 "nbformat": 4,
 "nbformat_minor": 1
}
