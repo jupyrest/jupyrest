{
 "cells": [
  {
   "cell_type": "markdown",
   "id": "a155612f",
   "metadata": {},
   "source": [
    "# Jupyrest Hello World"
   ]
  },
  {
   "cell_type": "code",
   "execution_count": null,
   "id": "297614df",
   "metadata": {
    "tags": [
     "parameters"
    ]
   },
   "outputs": [],
   "source": [
    "name = \"world\""
   ]
  },
  {
   "cell_type": "code",
   "execution_count": null,
   "id": "7a524463",
   "metadata": {},
   "outputs": [],
   "source": [
    "output_name = f\"Hello {name}!\"\n",
    "\n",
    "print(\"-\" * 50)\n",
    "print(output_name)\n",
    "print(\"-\" * 50)"
   ]
  },
  {
   "cell_type": "code",
   "execution_count": null,
   "id": "24d4c6a8",
   "metadata": {},
   "outputs": [],
   "source": [
    "raise KeyError"
   ]
  },
  {
   "cell_type": "code",
   "execution_count": null,
   "id": "1a99b143",
   "metadata": {},
   "outputs": [],
   "source": [
    "from jupyrest import save_output\n",
    "\n",
    "save_output({\n",
    "    \"name\": output_name \n",
    "})"
   ]
  }
 ],
 "metadata": {
  "celltoolbar": "Tags",
  "kernelspec": {
   "display_name": "Python 3 (ipykernel)",
   "language": "python",
   "name": "python3"
  },
  "language_info": {
   "codemirror_mode": {
    "name": "ipython",
    "version": 3
   },
   "file_extension": ".py",
   "mimetype": "text/x-python",
   "name": "python",
   "nbconvert_exporter": "python",
   "pygments_lexer": "ipython3",
   "version": "3.9.18"
  }
 },
 "nbformat": 4,
 "nbformat_minor": 5
}
