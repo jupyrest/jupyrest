{
 "cells": [
  {
   "cell_type": "code",
   "execution_count": null,
   "metadata": {
    "tags": [
     "parameters"
    ]
   },
   "outputs": [],
   "source": [
    "from jupyrest.nbschema import NbSchemaBase\n",
    "import datetime\n",
    "import json\n",
    "\n",
    "class Incident(NbSchemaBase):\n",
    "    start_time: datetime.datetime\n",
    "    end_time: datetime.datetime\n",
    "    title: str"
   ]
  },
  {
   "cell_type": "code",
   "execution_count": null,
   "metadata": {},
   "outputs": [],
   "source": [
    "new_incident_1 = incidents[0]\n",
    "new_incident_2 = incidents[1]\n",
    "bar = foo\n",
    "new_incidents = {\n",
    "    'new_incident_1': new_incident_1,\n",
    "    'new_incident_2': new_incident_2\n",
    "}\n",
    "\n",
    "obj = {\n",
    "    \"new_incidents\": new_incidents,\n",
    "    \"bar\": bar\n",
    "}\n",
    "\n",
    "from jupyrest import save_output\n",
    "save_output(obj)"
   ]
  }
 ],
 "metadata": {
  "celltoolbar": "Tags",
  "kernelspec": {
   "display_name": "Python 3.7.9 64-bit ('.venv': venv)",
   "name": "pythonjvsc74a57bd0a708b0063305b1a0371e06883581be78f0942506af7d5c9c88057c24472325e0"
  },
  "language_info": {
   "codemirror_mode": {
    "name": "ipython",
    "version": 3
   },
   "file_extension": ".py",
   "mimetype": "text/x-python",
   "name": "python",
   "nbconvert_exporter": "python",
   "pygments_lexer": "ipython3",
   "version": "3.7.9"
  },
  "metadata": {
   "interpreter": {
    "hash": "a708b0063305b1a0371e06883581be78f0942506af7d5c9c88057c24472325e0"
   }
  }
 },
 "nbformat": 4,
 "nbformat_minor": 2
}
