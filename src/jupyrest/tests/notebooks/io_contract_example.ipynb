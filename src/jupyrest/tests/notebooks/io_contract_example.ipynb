{
 "cells": [
  {
   "cell_type": "markdown",
   "metadata": {},
   "source": [
    "# SAMPLE NOTEBOOK\n",
    "This is a sample notebook to demonstrate how to define input/output contracts for a notebook and how to save outputs within a notebook.\n",
    "\n"
   ]
  },
  {
   "cell_type": "code",
   "execution_count": 1,
   "metadata": {
    "tags": [
     "parameters"
    ]
   },
   "outputs": [],
   "source": [
    "foo = \"foo\"\n",
    "bar = 500\n",
    "baz = \"baz\""
   ]
  },
  {
   "cell_type": "code",
   "execution_count": 2,
   "metadata": {},
   "outputs": [
    {
     "name": "stdout",
     "output_type": "stream",
     "text": [
      "foo=foo, bar=500, baz=baz\n"
     ]
    }
   ],
   "source": [
    "print(f\"foo={foo}, bar={bar}, baz={baz}\")"
   ]
  },
  {
   "cell_type": "code",
   "execution_count": 3,
   "metadata": {},
   "outputs": [],
   "source": [
    "import json\n",
    "\n",
    "data = [\n",
    "    {\n",
    "        \"red\": foo,\n",
    "        \"green\": bar,\n",
    "        \"blue\": baz\n",
    "    },\n",
    "    {\n",
    "        \"red\": baz,\n",
    "        \"green\": bar,\n",
    "        \"blue\": foo\n",
    "    }\n",
    "]"
   ]
  },
  {
   "cell_type": "code",
   "execution_count": 4,
   "metadata": {},
   "outputs": [
    {
     "data": {
      "text/plain": [
       "[{'red': 'foo', 'green': 500, 'blue': 'baz'},\n",
       " {'red': 'baz', 'green': 500, 'blue': 'foo'}]"
      ]
     },
     "execution_count": 4,
     "metadata": {},
     "output_type": "execute_result"
    }
   ],
   "source": [
    "data"
   ]
  },
  {
   "cell_type": "code",
   "execution_count": 5,
   "metadata": {},
   "outputs": [
    {
     "data": {
      "application/scrapbook.scrap.text+json": {
       "data": "[{\"red\": \"foo\", \"green\": 500, \"blue\": \"baz\"}, {\"red\": \"baz\", \"green\": 500, \"blue\": \"foo\"}]",
       "encoder": "text",
       "name": "nbschema_outputs",
       "version": 1
      }
     },
     "metadata": {
      "scrapbook": {
       "data": true,
       "display": false,
       "name": "nbschema_outputs"
      }
     },
     "output_type": "display_data"
    }
   ],
   "source": [
    "from jupyrest import save_output\n",
    "save_output(json.dumps(data))"
   ]
  },
  {
   "cell_type": "code",
   "execution_count": null,
   "metadata": {},
   "outputs": [],
   "source": []
  }
 ],
 "metadata": {
  "celltoolbar": "Tags",
  "kernelspec": {
   "display_name": "Python 3 (ipykernel)",
   "language": "python",
   "name": "python3"
  },
  "language_info": {
   "codemirror_mode": {
    "name": "ipython",
    "version": 3
   },
   "file_extension": ".py",
   "mimetype": "text/x-python",
   "name": "python",
   "nbconvert_exporter": "python",
   "pygments_lexer": "ipython3",
   "version": "3.9.13"
  }
 },
 "nbformat": 4,
 "nbformat_minor": 4
}
