{
 "cells": [
  {
   "cell_type": "markdown",
   "metadata": {},
   "source": [
    "## Fake Revenue Analysis\n",
    "\n",
    "This notebook takes the `customer_name` as a parameter. See `analysis.config.json`."
   ]
  },
  {
   "cell_type": "code",
   "execution_count": 1,
   "metadata": {},
   "outputs": [],
   "source": [
    "print(customer_name)"
   ]
  },
  {
   "cell_type": "code",
   "execution_count": null,
   "metadata": {},
   "outputs": [],
   "source": [
    "# do some fancy analysis here"
   ]
  },
  {
   "cell_type": "code",
   "execution_count": null,
   "metadata": {},
   "outputs": [],
   "source": [
    "from jupyrest import save_output\n",
    "\n",
    "output = {\n",
    "    \"needs_discount\": False\n",
    "}\n",
    "save_output(output)"
   ]
  }
 ],
 "metadata": {
  "interpreter": {
   "hash": "7e3b0a03b9c53f91674eba4eb89a212096be53ca4b903109991529c43a46beee"
  },
  "kernelspec": {
   "display_name": "Python 3.7.12 64-bit ('.venv': poetry)",
   "language": "python",
   "name": "python3"
  },
  "language_info": {
   "codemirror_mode": {
    "name": "ipython",
    "version": 3
   },
   "file_extension": ".py",
   "mimetype": "text/x-python",
   "name": "python",
   "nbconvert_exporter": "python",
   "pygments_lexer": "ipython3",
   "version": "3.7.12"
  },
  "orig_nbformat": 4
 },
 "nbformat": 4,
 "nbformat_minor": 2
}
